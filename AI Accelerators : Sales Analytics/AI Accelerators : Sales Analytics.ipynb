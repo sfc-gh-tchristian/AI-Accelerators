{
 "metadata": {
  "language_info": {
   "name": "python"
  },
  "lastEditStatus": {
   "notebookId": "2ksjycsuye6aoobc6qps",
   "authorId": "320484852755",
   "authorName": "TOMGPT",
   "authorEmail": "tom.christian@snowflake.com",
   "sessionId": "d4d31871-e281-40ed-a499-b9531e539a1d",
   "lastEditTime": 1753215333564
  }
 },
 "nbformat_minor": 2,
 "nbformat": 4,
 "cells": [
  {
   "cell_type": "markdown",
   "id": "3a5be20f-0d21-4402-99a5-1fb236c3e7c9",
   "metadata": {
    "name": "intro",
    "collapsed": false
   },
   "source": "# 🚀 AI-Powered Sales Intelligence Demo powered by Snowflake Cortex\n\n## 🎯 Purpose\nThis notebook demonstrates how Snowball Analytics leverages Snowflake's Cortex AI capabilities to transform traditional CRM data into actionable sales intelligence. Experience conversational AI that answers complex sales questions, identifies priority accounts, and generates personalized outreach.\n\n## 💡 Why do this?\n- 🎯 **Account Prioritization**: AI-driven scoring to identify high-value opportunities and at-risk accounts\n- 🤝 **Meeting Preparation**: Instant context and relationship history for prospect meetings\n- 🏆 **Competitive Intelligence**: Extract competitor mentions and sentiment from sales activities\n- 📈 **MEDDIC Analysis**: Automated identification of budget, timeline, and decision-maker signals\n- ✉️ **Personalized Outreach**: Generate contextual follow-ups based on recent interactions\n- 📊 **Pipeline Health**: Predict deal outcomes and recommended next actions\n\n## 🛠️ Solution Components\nNote: This demo uses SQL & Python to showcase Snowflake Cortex capabilities for sales intelligence\n\n1. 📊 **Sales Data Exploration**\n   - Interactive dashboards showing account activity and opportunity trends\n   - Dynamic filtering by territory, industry, and deal stage\n\n2. 🤖 **AI-Powered Sales Analysis**\n   - Account summarization using `AI_AGG` across task history\n   - Automated competitor detection with `AI_FILTER`\n   - Multi-dimensional sentiment analysis with `ENTITY_SENTIMENT`\n   - MEDDIC scoring and opportunity assessment\n\n3. ⚙️ **Automated Sales Intelligence Pipeline**\n   - Real-time processing of new sales activities\n   - Automatic account health scoring updates\n   - Competitor mention tracking and alerts\n\n4. 🎯 **Conversational Sales Assistant**\n   - Natural language queries for meeting preparation\n   - Semantic search across sales history and customer interactions\n   - Contextual recommendations and next best actions\n\n## 🌟 Demo Scenarios\n*\"I am about to meet Barbara Davis at Hamburg Digital. Summarize our relationship history and suggest talking points.\"*\n\n*\"Which accounts mentioned competitors in Q3 and what was our response strategy?\"*\n\n*\"Show me all deals where budget has been approved but we haven't closed yet.\"*\n\n*\"Generate a follow-up email for Hamburg Digital based on our latest technical deep dive.\"*\n"
  },
  {
   "cell_type": "code",
   "id": "384fb6b2-43a2-4503-a0b2-bc12f0348314",
   "metadata": {
    "language": "python",
    "name": "packages"
   },
   "outputs": [],
   "source": "# Core packages for sales analytics and visualization\nimport streamlit as st\nimport pandas as pd\nimport altair as alt\nfrom datetime import datetime, timedelta\nimport plotly.express as px\nimport plotly.graph_objects as go\n\n# Snowflake session for AI-powered analytics\nfrom snowflake.snowpark.context import get_active_session\nsession = get_active_session()",
   "execution_count": null
  },
  {
   "cell_type": "code",
   "id": "168108cc-d1b4-49eb-a2b7-6de12e1bac8a",
   "metadata": {
    "language": "python",
    "name": "source_tbls"
   },
   "outputs": [],
   "source": "# Sales data configuration - update these if using your own CRM data\ntasks_table = 'AI_SOL.SALES.TASKS'\naccounts_table = 'AI_SOL.SALES.ACCOUNTS' \nopportunities_table = 'AI_SOL.SALES.OPPORTUNITIES'\ncontacts_table = 'AI_SOL.SALES.CONTACTS'\n\n# Display table locations for reference\nst.markdown(f\"\"\"\n**Sales Data Sources:**\n- 📋 Tasks: `{tasks_table}`\n- 🏢 Accounts: `{accounts_table}`  \n- 💰 Opportunities: `{opportunities_table}`\n- 👥 Contacts: `{contacts_table}`\n\"\"\")",
   "execution_count": null
  },
  {
   "cell_type": "code",
   "id": "af1ec24e-f848-4dc0-97b1-ef5881a1b158",
   "metadata": {
    "language": "sql",
    "name": "data_view"
   },
   "outputs": [],
   "source": "-- Get a high-level view of our sales data\n-- This helps us understand the scope and timeframe of our demo data\nSELECT \n    'Tasks' as data_type,\n    COUNT(*) as record_count,\n    MIN(activity_date) as earliest_date,\n    MAX(activity_date) as latest_date\nFROM {{tasks_table}}\n\nUNION ALL\n\nSELECT \n    'Opportunities' as data_type,\n    COUNT(*) as record_count,\n    MIN(close_date) as earliest_date,\n    MAX(close_date) as latest_date\nFROM {{opportunities_table}}\n\nUNION ALL\n\nSELECT \n    'Accounts' as data_type,\n    COUNT(*) as record_count,\n    MIN(created_date) as earliest_date,\n    MAX(last_modified_date) as latest_date\nFROM {{accounts_table}};",
   "execution_count": null
  },
  {
   "cell_type": "code",
   "id": "c4c90be2-10bb-402c-9c3e-6ec79efe3f49",
   "metadata": {
    "language": "python",
    "name": "detailed_view",
    "codeCollapsed": true,
    "collapsed": false
   },
   "outputs": [],
   "source": "## Interactive Sales Dashboard\n## This provides executives and sales reps with key metrics and trends\n\nst.header(\"📊 Sales Performance Dashboard\")\n\n# Get opportunity data for visualization\nopps_df = session.sql(f\"\"\"\n    SELECT \n        o.STAGE_NAME,\n        o.CLOSE_DATE,\n        o.AMOUNT,\n        o.PROBABILITY,\n        a.BILLING_COUNTRY as GEO,\n        a.ANNUAL_REVENUE,\n        a.NAME as ACCOUNT_NAME,\n        o.LEAD_SOURCE\n    FROM {opportunities_table} o\n    JOIN {accounts_table} a ON o.ACCOUNT_ID = a.ID\n    WHERE o.CLOSE_DATE >= '2024-01-01'\n\"\"\").to_pandas()\n\n# Convert CLOSE_DATE to datetime\nopps_df['CLOSE_DATE'] = pd.to_datetime(opps_df['CLOSE_DATE'])\n\n# Create form for dashboard filters\nwith st.form(\"dashboard_filters\"):\n    col1, col2, col3 = st.columns(3)\n    \n    with col1:\n        selected_industries = st.multiselect(\n            'Filter by Geo', \n            options=opps_df['GEO'].unique(),\n            default=opps_df['GEO'].unique()\n        )\n    \n    with col2:\n        date_range = st.date_input(\n            'Date Range',\n            value=(opps_df['CLOSE_DATE'].min(), opps_df['CLOSE_DATE'].max()),\n            min_value=opps_df['CLOSE_DATE'].min(),\n            max_value=opps_df['CLOSE_DATE'].max()\n        )\n    \n    with col3:\n        min_deal_size = st.number_input(\n            'Minimum Deal Size (€)', \n            min_value=0, \n            value=0,\n            step=10000\n        )\n    \n    submitted = st.form_submit_button(\"Update Dashboard\")\n\nif submitted or True:  # Show default on first load\n    # Filter data based on selections\n    filtered_df = opps_df[\n        (opps_df['GEO'].isin(selected_industries)) &\n        (opps_df['CLOSE_DATE'] >= pd.to_datetime(date_range[0])) &\n        (opps_df['CLOSE_DATE'] <= pd.to_datetime(date_range[1])) &\n        (opps_df['AMOUNT'] >= min_deal_size)\n    ]\n    \n    # Key metrics row\n    col1, col2, col3, col4 = st.columns(4)\n    \n    with col1:\n        total_pipeline = filtered_df['AMOUNT'].sum()\n        st.metric(\"Total Pipeline\", f\"€{total_pipeline:,.0f}\")\n    \n    with col2:\n        closed_won = filtered_df[filtered_df['STAGE_NAME'] == 'Closed Won']['AMOUNT'].sum()\n        st.metric(\"Closed Won\", f\"€{closed_won:,.0f}\")\n    \n    with col3:\n        avg_deal_size = filtered_df['AMOUNT'].mean()\n        st.metric(\"Avg Deal Size\", f\"€{avg_deal_size:,.0f}\")\n    \n    with col4:\n        win_rate = len(filtered_df[filtered_df['STAGE_NAME'] == 'Closed Won']) / len(filtered_df) * 100\n        st.metric(\"Win Rate\", f\"{win_rate:.1f}%\")\n    \n    # Pipeline by stage chart\n    stage_summary = filtered_df.groupby('STAGE_NAME')['AMOUNT'].sum().reset_index()\n    \n    fig_pipeline = px.bar(\n        stage_summary, \n        x='STAGE_NAME', \n        y='AMOUNT',\n        title='Pipeline by Stage',\n        labels={'AMOUNT': 'Amount (€)', 'STAGE_NAME': 'Sales Stage'}\n    )\n    st.plotly_chart(fig_pipeline, use_container_width=True)\n    \n    # Monthly trend\n    monthly_trend = filtered_df.groupby(filtered_df['CLOSE_DATE'].dt.to_period('M'))['AMOUNT'].sum().reset_index()\n    monthly_trend['CLOSE_DATE'] = monthly_trend['CLOSE_DATE'].astype(str)\n    \n    fig_trend = px.line(\n        monthly_trend,\n        x='CLOSE_DATE',\n        y='AMOUNT', \n        title='Monthly Pipeline Trend',\n        labels={'AMOUNT': 'Amount (€)', 'CLOSE_DATE': 'Month'}\n    )\n    st.plotly_chart(fig_trend, use_container_width=True)\n",
   "execution_count": null
  },
  {
   "cell_type": "markdown",
   "id": "2ef8f058-8b49-4ab5-8f6c-4152af4ef9c7",
   "metadata": {
    "name": "AI_intro",
    "collapsed": false
   },
   "source": "# 🎯 AI-Powered Account Intelligence\n\nNow let's dive into the real power of Cortex AI for sales intelligence. We'll use `AI_AGG` to automatically summarize account relationships and identify key insights from our sales activities.\n\nThis is where Snowball Analytics transforms from traditional CRM reporting to intelligent sales assistance.\n"
  },
  {
   "cell_type": "code",
   "id": "51f30499-daee-48bd-af24-f114300f5ec6",
   "metadata": {
    "language": "sql",
    "name": "relation_summ"
   },
   "outputs": [],
   "source": "-- AI-powered account relationship summary\n-- This demonstrates how we can instantly prepare for customer meetings\n-- by analysing all historical interactions and extracting key insights\n\nSELECT \n    a.name as account_name,\n    a.industry,\n    a.annual_revenue,\n    COUNT(t.id) as total_activities,\n    AI_AGG(\n        t.description,\n        'Summarize the relationship history with this account. Highlight key pain points discussed, decision makers engaged, competitive mentions, and current status. Include any budget or timing indicators mentioned.'\n    ) as relationship_summary\nFROM {{accounts_table}} a\nJOIN {{tasks_table}} t ON a.id = t.account_id\nWHERE a.name = 'Hamburg Digital'\nGROUP BY a.name, a.industry, a.annual_revenue;\n",
   "execution_count": null
  },
  {
   "cell_type": "code",
   "id": "2aa408cd-e706-4c2b-969b-f067667040ea",
   "metadata": {
    "language": "python",
    "name": "meeting_prep_assist",
    "codeCollapsed": false
   },
   "outputs": [],
   "source": "# Meeting Preparation Assistant\n# This simulates the use case: \"I'm about to meet Barbara Davis at Hamburg Digital\"\n# Note how \"AISQL\" is a callable python function too :)\n\nfrom snowflake.snowpark.functions import col, count_distinct, max, ai_agg, concat, lit\n\nst.header(\"🤝 Meeting Preparation Assistant\")\n\n# Create DataFrames from tables\naccounts_df = session.table(accounts_table)\ntasks_df = session.table(tasks_table)\nopps_df = session.table(opportunities_table)\ncontacts_df = session.table(contacts_table)\n\n# Create interactive meeting prep tool\nwith st.form(\"meeting_prep\"):\n    st.markdown(\"### Prepare for your next meeting with AI insights\")\n    \n    # Get list of accounts for selection \n    accounts_list = (accounts_df.select('NAME').distinct().sort('NAME').to_pandas()['NAME'].tolist()\n)\n    \n    selected_account = st.selectbox(\n        \"Select Account for Meeting Prep:\",\n        options=accounts_list,\n        index=accounts_list.index('Hamburg Digital') if 'Hamburg Digital' in accounts_list else 0\n    )\n    \n    prep_submitted = st.form_submit_button(\"Generate Meeting Brief\")\n\nif prep_submitted:\n    # Get comprehensive account intelligence\n    meeting_brief = (accounts_df\n        .filter(col('NAME') == selected_account)\n        .join(\n            tasks_df.select(\n                col('ID').alias('TASK_ID'),\n                col('ACCOUNT_ID').alias('TASK_ACCOUNT_ID'),\n                col('DESCRIPTION').alias('TASK_DESC'),\n                col('ACTIVITY_DATE')\n            ),\n            accounts_df['ID'] == col('TASK_ACCOUNT_ID'),\n            'left'\n        )\n        .join(\n            opps_df.select(\n                col('ID').alias('OPP_ID'),\n                col('ACCOUNT_ID').alias('OPP_ACCOUNT_ID')\n            ),\n            accounts_df['ID'] == col('OPP_ACCOUNT_ID'),\n            'left'\n        )\n        .group_by(accounts_df['NAME'], accounts_df['INDUSTRY'], accounts_df['ANNUAL_REVENUE'])\n        .agg(\n            count_distinct('TASK_ID').alias('TOTAL_ACTIVITIES'),\n            count_distinct('OPP_ID').alias('TOTAL_OPPORTUNITIES'),\n            max('ACTIVITY_DATE').alias('LAST_ACTIVITY_DATE'),\n            ai_agg(\n                col('TASK_DESC'),\n                'Create a comprehensive meeting preparation brief. Include: 1) Recent activity summary 2) Key stakeholders and their roles 3) Pain points and business priorities 4) Competitive landscape mentions 5) Budget and timeline indicators 6) Recommended talking points and questions to ask. Format as executive brief.'\n            ).alias('MEETING_BRIEF')\n        )\n        .collect()\n    )\n    \n    if meeting_brief:\n        brief = meeting_brief[0]\n        \n        st.success(f\"Meeting Brief Generated for {selected_account}\")\n        \n        # Display key metrics\n        col1, col2, col3, col4 = st.columns(4)\n        with col1:\n            st.metric(\"Industry\", brief['INDUSTRY'])\n        with col2:\n            st.metric(\"Annual Revenue\", f\"€{brief['ANNUAL_REVENUE']:,}\")\n        with col3:\n            st.metric(\"Total Activities\", brief['TOTAL_ACTIVITIES'])\n        with col4:\n            st.metric(\"Opportunities\", brief['TOTAL_OPPORTUNITIES'])\n        \n        # Display AI-generated brief\n        st.markdown(\"### 📋 AI-Generated Meeting Brief\")\n        st.markdown(brief['MEETING_BRIEF'])\n        \n        # Get recent contacts for this account\n        recent_contacts = (contacts_df\n            .join(accounts_df, contacts_df['ACCOUNT_ID'] == accounts_df['ID'])\n            .filter(accounts_df['NAME'] == selected_account)\n            .select(\n                concat(contacts_df['FIRST_NAME'], lit(' '), contacts_df['LAST_NAME']).alias('CONTACT_NAME'),\n                contacts_df['TITLE'],\n                contacts_df['DEPARTMENT'],\n                contacts_df['EMAIL']\n            )\n            .distinct()\n            .to_pandas()\n        )\n        \n        if not recent_contacts.empty:\n            st.markdown(\"### 👥 Key Contacts\")\n            st.dataframe(recent_contacts, use_container_width=True)\n",
   "execution_count": null
  },
  {
   "cell_type": "markdown",
   "id": "8d506266-4888-45b8-8683-53ae8767d4b5",
   "metadata": {
    "name": "competition_intro",
    "collapsed": false
   },
   "source": "# 🏆 Competitive Intelligence with AI_FILTER\n\nOne of the key challenges in B2B sales is tracking competitive mentions scattered across sales activities. `AI_FILTER` allows us to intelligently identify competitive threats and opportunities, even when competitors aren't explicitly named.\n\nThis goes beyond simple keyword matching - it understands context and intent."
  },
  {
   "cell_type": "code",
   "id": "639031da-2007-481e-b739-1de2b633948f",
   "metadata": {
    "language": "sql",
    "name": "ai_filter_comp_type"
   },
   "outputs": [],
   "source": "-- Intelligent competitor detection across all sales activities\n-- This finds both explicit competitor mentions and implicit competitive scenarios\n\nSELECT \n    t.id,\n    a.name as account_name,\n    a.industry,\n    t.subject,\n    t.activity_date,\n    AI_FILTER(PROMPT('Does this sales activity mention competitors, competitive evaluation, or vendor comparison? Include mentions of RFPs, vendor selection, or \"other solutions\" being considered. {0}', t.description)) as has_competitive_mention,\n    CASE \n        WHEN AI_FILTER(PROMPT('Does this mention a specific competitor by name? {0}', t.description)) THEN 'Named Competitor'\n        WHEN AI_FILTER(PROMPT('Does this mention evaluating multiple vendors or solutions? {0}', t.description)) THEN 'Competitive Evaluation'\n        WHEN AI_FILTER(PROMPT('Does this mention RFP or procurement process? {0}', t.description)) THEN 'Formal RFP Process'\n        ELSE 'Other Competitive Signal'\n    END as competitive_type,\n    t.description\nFROM {{tasks_table}} t\nJOIN {{accounts_table}} a ON t.account_id = a.id\nWHERE AI_FILTER(PROMPT('Does this sales activity mention competitors, competitive evaluation, vendor comparison, or selection process? {0}', t.description))\nORDER BY t.activity_date DESC\nLIMIT 30;\n",
   "execution_count": null
  },
  {
   "cell_type": "markdown",
   "id": "9504124a-cf02-431a-9d3a-a2972ae3a5ef",
   "metadata": {
    "name": "MEDDIC_intro",
    "collapsed": false
   },
   "source": "# 🎯 MEDDIC Analysis with AI Intelligence\n\nMEDDIC (Metrics, Economic Buyer, Decision Criteria, Decision Process, Implicate Pain, Champion) is a proven B2B sales methodology. Here we use AI to automatically extract MEDDIC elements from sales activities and assess deal health.\n\nThis transforms subjective deal assessment into data-driven insights."
  },
  {
   "cell_type": "code",
   "id": "e2229f8e-8cd4-4ea5-8d67-515868163bd5",
   "metadata": {
    "language": "sql",
    "name": "AI_filter_MEDDIC",
    "codeCollapsed": false
   },
   "outputs": [],
   "source": "SELECT\n  o.name AS opportunity_name,\n  a.name AS account_name,\n  o.stage_name,\n  o.amount,\n  o.close_date,\n  AI_FILTER (\n    PROMPT (\n      'Does this opportunity show clear metrics or ROI discussions? Look for financial impact, cost savings, revenue growth targets. {0}',\n      (SELECT LISTAGG (description, ' | ') FROM AI_SOL.SALES.TASKS AS t WHERE t.what_id = o.id)\n    )\n  ) AS has_metrics,\n  AI_FILTER (\n    PROMPT (\n      'Is there evidence of economic buyer engagement? Look for C-level involvement, budget approval discussions, or executive sponsorship. {0}',\n      (SELECT LISTAGG (description, ' | ') FROM AI_SOL.SALES.TASKS AS t WHERE t.what_id = o.id)\n    )\n  ) AS has_economic_buyer,\n  AI_FILTER (\n    PROMPT (\n      'Are decision criteria clearly defined? Look for evaluation requirements, technical specifications, or vendor comparison criteria. {0}',\n      (SELECT LISTAGG (description, ' | ') FROM AI_SOL.SALES.TASKS AS t WHERE t.what_id = o.id)\n    )\n  ) AS has_decision_criteria,\n  AI_FILTER (\n    PROMPT (\n      'Is the decision process mapped out? Look for timeline discussions, approval workflows, or procurement processes. {0}',\n      (SELECT LISTAGG (description, ' | ') FROM AI_SOL.SALES.TASKS AS t WHERE t.what_id = o.id)\n    )\n  ) AS has_decision_process,\n  AI_FILTER (\n    PROMPT (\n      'Are there clear pain points or business challenges identified? Look for problems, inefficiencies, or urgent business needs. {0}',\n      (SELECT LISTAGG (description, ' | ') FROM AI_SOL.SALES.TASKS AS t WHERE t.what_id = o.id)\n    )\n  ) AS has_implicated_pain,\n  AI_FILTER (\n    PROMPT (\n      'Is there evidence of a champion or internal advocate? Look for stakeholder support, internal selling, or advocacy behaviors. {0}',\n      (SELECT LISTAGG (description, ' | ') FROM AI_SOL.SALES.TASKS AS t WHERE t.what_id = o.id)\n    )\n  ) AS has_champion\nFROM\n  AI_SOL.SALES.OPPORTUNITIES AS o\n  JOIN AI_SOL.SALES.ACCOUNTS AS a ON o.account_id = a.id\nWHERE\n  NOT o.stage_name IN ('Closed Won', 'Closed Lost')\nORDER BY\n  o.amount DESC\nLIMIT\n  10;",
   "execution_count": null
  },
  {
   "cell_type": "markdown",
   "id": "f4df41bd-a170-430c-9032-b22d6c33e6dd",
   "metadata": {
    "name": "outreach_intro",
    "collapsed": false
   },
   "source": "# ✉️ AI-Generated Personalized Outreach\n\nOne of the most time-consuming tasks for sales reps is crafting personalized follow-up emails. Using the conversation history and context, we can generate relevant, personalized outreach that references specific discussions and next steps.\n\nThis demonstrates how AI can augment human creativity while maintaining authenticity.\n"
  },
  {
   "cell_type": "code",
   "id": "ae64ff95-daad-4b0e-bf83-2700a9ef0e09",
   "metadata": {
    "language": "python",
    "name": "mini_st_outreach"
   },
   "outputs": [],
   "source": "# Personalized Outreach Generator\nst.header(\"✉️ AI-Powered Outreach Generator\")\n\nwith st.form(\"outreach_form\"):\n    st.markdown(\"### Generate personalized follow-up emails based on recent interactions\")\n    \n    # Get accounts with recent activity\n    recent_accounts = session.sql(f\"\"\"\n        SELECT DISTINCT \n            a.name,\n            MAX(t.activity_date) as last_activity\n        FROM {accounts_table} a\n        JOIN {tasks_table} t ON a.id = t.account_id\n        GROUP BY a.name\n        ORDER BY last_activity DESC\n        LIMIT 20\n    \"\"\").to_pandas()\n    \n    selected_account_outreach = st.selectbox(\n        \"Select Account for Outreach:\",\n        options=recent_accounts['NAME'].tolist()\n    )\n    \n    outreach_type = st.selectbox(\n        \"Outreach Type:\",\n        [\"Follow-up after meeting\", \"Next steps confirmation\", \"Proposal follow-up\", \"Check-in email\", \"Meeting request\"]\n    )\n    \n    tone = st.selectbox(\n        \"Tone:\",\n        [\"Professional\", \"Friendly\", \"Executive\", \"Technical\"]\n    )\n    \n    generate_outreach = st.form_submit_button(\"Generate Outreach Email\")\n\nif generate_outreach:\n    # Get recent activity and context for the selected account\n    outreach_context = session.sql(f\"\"\"\n        WITH recent_activities AS (\n            SELECT \n                t.description,\n                t.subject,\n                t.activity_date,\n                t.type\n            FROM {tasks_table} t\n            JOIN {accounts_table} a ON t.account_id = a.id\n            WHERE a.name = '{selected_account_outreach}'\n            ORDER BY t.activity_date DESC\n            LIMIT 5\n        ),\n        account_context AS (\n            SELECT \n                a.name as account_name,\n                a.industry,\n                a.annual_revenue,\n                c.first_name || ' ' || c.last_name as primary_contact,\n                c.title,\n                c.email\n            FROM {accounts_table} a\n            LEFT JOIN {contacts_table} c ON a.id = c.account_id\n            WHERE a.name = '{selected_account_outreach}'\n            AND c.is_primary_contact = TRUE\n            LIMIT 1\n        )\n        SELECT \n            ac.account_name,\n            ac.industry,\n            ac.primary_contact,\n            ac.title,\n            ac.email,\n            SNOWFLAKE.CORTEX.COMPLETE(\n                'claude-4-sonnet',\n                CONCAT(\n                    'Write a {outreach_type} email in a {tone} tone to ', ac.primary_contact, ' (', ac.title, ') at ', ac.account_name, ' (', ac.industry, ' industry). ',\n                    'Base the email on these recent interactions: ',\n                    (SELECT LISTAGG(CONCAT(type, ': ', subject, ' - ', description), '; ') FROM recent_activities),\n                    '. Make it personalized, relevant, and include appropriate next steps. Keep it concise (under 200 words). ',\n                    'Include a clear subject line. Sign as the Snowball Analytics sales representative.'\n                )\n            ) as generated_email\n        FROM account_context ac\n    \"\"\").collect()\n    \n    if outreach_context:\n        context = outreach_context[0]\n        \n        st.success(f\"Outreach Generated for {context['ACCOUNT_NAME']}\")\n        \n        # Display contact info\n        col1, col2 = st.columns(2)\n        with col1:\n            st.markdown(f\"**To:** {context['PRIMARY_CONTACT']}\")\n            st.markdown(f\"**Title:** {context['TITLE']}\")\n        with col2:\n            st.markdown(f\"**Email:** {context['EMAIL']}\")\n            st.markdown(f\"**Company:** {context['ACCOUNT_NAME']}\")\n        \n        # Display generated email\n        st.markdown(\"### 📧 Generated Email\")\n        \n        email_content = context['GENERATED_EMAIL']\n        \n        # Make email editable\n        edited_email = st.text_area(\n            \"Edit email before sending:\",\n            value=email_content,\n            height=300\n        )\n        ",
   "execution_count": null
  },
  {
   "cell_type": "markdown",
   "id": "2256fc45-f645-4131-88f3-dbe2f54be38e",
   "metadata": {
    "name": "sales_assist_intro",
    "collapsed": false
   },
   "source": "# 🤖 Conversational Sales Assistant\n\nThe ultimate goal is natural language interaction with our sales data. Using Cortex Search, we can create a conversational assistant that answers complex sales questions, just like asking a senior sales analyst.\n\nThis represents the future of sales intelligence - instant, contextual, and conversational.\n"
  },
  {
   "cell_type": "code",
   "id": "078227ae-3751-4bb1-ab31-0deba5aa9333",
   "metadata": {
    "language": "sql",
    "name": "cortex_search_setup"
   },
   "outputs": [],
   "source": "-- Create Cortex Search service for sales data\n-- This enables semantic search across all sales activities and relationships\n\nCREATE OR REPLACE CORTEX SEARCH SERVICE SALES_SEARCH\n  ON description\n  ATTRIBUTES activity_date, account_id\n  WAREHOUSE = tc_wh\n  TARGET_LAG = '1 day'\n  EMBEDDING_MODEL = 'snowflake-arctic-embed-l-v2.0'\n  AS (\n    SELECT\n        t.id,\n        t.activity_date,\n        t.account_id,\n        t.subject,\n        t.type,\n        t.description,\n        a.name as account_name,\n        a.industry\n    FROM {{tasks_table}} t\n    JOIN {{accounts_table}} a ON t.account_id = a.id\n);\n",
   "execution_count": null
  },
  {
   "cell_type": "code",
   "id": "acfe90ce-613c-4c92-912b-68a8b3cca082",
   "metadata": {
    "language": "python",
    "name": "RAG_sales_assist"
   },
   "outputs": [],
   "source": "# Conversational Sales Assistant\nfrom snowflake.core import Root\nfrom snowflake.cortex import complete\nimport json\n\nst.header(\"🤖 Conversational Sales Assistant\")\nst.markdown(\"Ask natural language questions about accounts, opportunities, and sales activities.\")\n\n# Sample questions to inspire users\nst.markdown(\"\"\"\n**Try asking questions like:**\n- \"What's the latest activity with Hamburg Digital?\"\n- \"Show me deals where competitors were mentioned\"\n- \"What accounts have budget approval discussions?\"\n- \"Find me technical deep dives from last month\"\n- \"Which accounts need follow-up this week?\"\n\"\"\")\n\nroot = Root(session)\n\n# Conversational interface\nwith st.form(\"sales_query\"):\n    user_question = st.text_input(\n        \"Ask your sales question:\",\n        placeholder=\"What's the latest activity with Hamburg Digital?\"\n    )\n    \n    search_submitted = st.form_submit_button(\"Search\")\n\nif search_submitted and user_question:\n    try:\n        # Search sales data\n        search_service = (root\n            .databases[\"ai_sol\"]\n            .schemas[\"sales\"]\n            .cortex_search_services[\"sales_search\"]\n        )\n        \n        search_results = search_service.search(\n            query=user_question,\n            columns=[\"id\", \"description\", \"account_name\", \n                    \"type\", \"activity_date\"],\n            limit=5\n        )\n        \n        # Generate AI response based on search results\n        model = 'claude-4-sonnet'\n        \n        context_prompt = f\"\"\"\n        Based on the following sales data, answer this question: \"{user_question}\"\n        \n        Sales Data:\n        {search_results.to_str()}\n        \n        Provide a helpful, contextual answer that summarizes the relevant information and suggests next steps if appropriate. \n        Be specific about accounts, dates, and activities mentioned.\n        \"\"\"\n        \n        ai_response = complete(model, context_prompt)\n        \n        st.markdown(\"### 🎯 AI Response\")\n        st.markdown(ai_response)\n        \n        st.markdown(\"### 📋 Relevant Sales Activities\")\n        \n        # Display search results in a more readable format\n        results_json_string = search_results.to_json()  \n        results_data = json.loads(results_json_string)  \n        \n        if results_data and 'results' in results_data:\n            for i, result in enumerate(results_data['results'][:3]):  # Show top 3\n                with st.expander(f\"📌 {result.get('account_name', 'Unknown Account')} - {result.get('type', 'Activity')}\"):\n                    st.markdown(f\"**Date:** {result.get('activity_date', 'N/A')}\")\n                    st.markdown(f\"**Description:** {result.get('description', 'No description available')}\")\n        \n    except Exception as e:\n        st.error(f\"Error: {str(e)}\")\n        ",
   "execution_count": null
  },
  {
   "cell_type": "markdown",
   "id": "3fe8f854-80ca-4ae8-a07e-77f654d87009",
   "metadata": {
    "name": "AI_for_BI",
    "collapsed": false
   },
   "source": "# 📊 AI for Business Intelligence\n\n## 🎯 Purpose\nLearn how to leverage Snowflake's AI capabilities for advanced business intelligence through semantic analysis.\n\n## 🔑 Key Components\n\n- **Analyst Tool**: Enables quantitative analysis through natural language queries\n- **Data Semantics**: Ensures accuracy and consistency in analysis through defined relationships and metrics\n- **Semantic Views**: Can be created through:\n  - UI-based configuration in Snowflake interface\n  - SQL-based definition (demonstrated in next cell)\n\n## 💡 Benefits\n- Natural language querying of your data\n- Consistent metric definitions across your organization\n- Enhanced data discoverability and understanding\n- Improved data governance through semantic layer"
  },
  {
   "cell_type": "code",
   "id": "dc4314bc-0f98-4351-873b-dc16c2eeefd9",
   "metadata": {
    "language": "sql",
    "name": "semantic_views"
   },
   "outputs": [],
   "source": "-- Sales Analytics Semantic View\n-- This semantic view integrates CRM data for comprehensive sales performance analysis\n\nCREATE OR REPLACE SEMANTIC VIEW sales_analytics \n\n-- Define the core tables for sales analysis\nTABLES (\n  accounts AS AI_SOL.SALES.ACCOUNTS \n  PRIMARY KEY (ID) \n  WITH SYNONYMS ('companies', 'customers', 'clients') \n  COMMENT = 'Company accounts and customer information',\n  \n  opportunities AS AI_SOL.SALES.OPPORTUNITIES \n  PRIMARY KEY (ID) \n  WITH SYNONYMS ('deals', 'sales opportunities', 'pipeline') \n  COMMENT = 'Sales opportunities and deal pipeline data',\n  \n  contacts AS AI_SOL.SALES.CONTACTS \n  PRIMARY KEY (ID) \n  WITH SYNONYMS ('people', 'leads', 'prospects') \n  COMMENT = 'Contact persons at customer accounts',\n  \n  tasks AS AI_SOL.SALES.TASKS \n  PRIMARY KEY (ID) \n  WITH SYNONYMS ('activities', 'sales activities', 'actions') \n  COMMENT = 'Sales activities and tasks'\n)\n\n-- Define relationships between tables\nRELATIONSHIPS (\n  opportunities_to_accounts AS \n    opportunities (ACCOUNT_ID) REFERENCES accounts,\n  contacts_to_accounts AS \n    contacts (ACCOUNT_ID) REFERENCES accounts,\n  tasks_to_accounts AS \n    tasks (ACCOUNT_ID) REFERENCES accounts,\n  tasks_to_contacts AS \n    tasks (WHO_ID) REFERENCES contacts,\n  tasks_to_opportunities AS \n    tasks (WHAT_ID) REFERENCES opportunities\n)\n\n-- Define facts for calculations\nFACTS (\n  opportunities.deal_amount AS AMOUNT,\n  opportunities.probability_percentage AS PROBABILITY,\n  accounts.company_revenue AS ANNUAL_REVENUE,\n  accounts.employee_count AS NUMBER_OF_EMPLOYEES,\n  tasks.call_duration_minutes AS CALL_DURATION_IN_SECONDS / 60.0 \n    COMMENT = 'Call duration converted to minutes',\n  tasks.activity_count AS 1 \n    COMMENT = 'Count of individual activities'\n) \n\n-- Define dimensions for grouping and filtering\nDIMENSIONS (\n  accounts.company_name AS NAME \n    WITH SYNONYMS ('account name', 'customer name') \n    COMMENT = 'Company or account name',\n  accounts.industry_type AS INDUSTRY \n    WITH SYNONYMS ('sector', 'vertical') \n    COMMENT = 'Industry classification',\n  accounts.company_rating AS RATING \n    WITH SYNONYMS ('account rating', 'customer tier') \n    COMMENT = 'Account rating (Hot, Warm, Cold)',\n  accounts.country AS BILLING_COUNTRY \n    WITH SYNONYMS ('location', 'geography') \n    COMMENT = 'Account country location',\n  accounts.currency_code AS CURRENCY_ISO_CODE \n    COMMENT = 'Currency for financial data',\n    \n  opportunities.deal_name AS NAME \n    WITH SYNONYMS ('opportunity name', 'deal name') \n    COMMENT = 'Name of the sales opportunity',\n  opportunities.sales_stage AS STAGE_NAME \n    WITH SYNONYMS ('stage', 'pipeline stage') \n    COMMENT = 'Current stage in sales pipeline',\n  opportunities.forecast_category AS FORECAST_CATEGORY_NAME \n    WITH SYNONYMS ('forecast type') \n    COMMENT = 'Forecast categorization',\n  opportunities.lead_origin AS LEAD_SOURCE \n    WITH SYNONYMS ('source', 'lead channel') \n    COMMENT = 'Source of the lead or opportunity',\n  opportunities.opportunity_type AS TYPE \n    COMMENT = 'Type of opportunity (New Customer, Existing Customer, etc.)',\n  opportunities.close_date AS CLOSE_DATE \n    COMMENT = 'Expected or actual close date',\n  opportunities.is_closed_won AS IS_WON \n    COMMENT = 'Whether opportunity was won',\n  opportunities.is_closed_lost AS (IS_CLOSED = TRUE AND IS_WON = FALSE) \n    COMMENT = 'Whether opportunity was lost',\n    \n  contacts.contact_name AS NAME \n    WITH SYNONYMS ('person name', 'contact person') \n    COMMENT = 'Full name of the contact',\n  contacts.job_title AS TITLE \n    WITH SYNONYMS ('position', 'role') \n    COMMENT = 'Job title or position',\n  contacts.department_name AS DEPARTMENT \n    WITH SYNONYMS ('team', 'division') \n    COMMENT = 'Department or business unit',\n  contacts.is_primary AS IS_PRIMARY_CONTACT \n    COMMENT = 'Whether this is the primary contact for the account',\n    \n  tasks.activity_subject AS SUBJECT \n    WITH SYNONYMS ('task subject', 'activity title') \n    COMMENT = 'Subject or title of the sales activity',\n  tasks.activity_type AS TYPE \n    WITH SYNONYMS ('task type', 'activity category') \n    COMMENT = 'Type of sales activity',\n  tasks.activity_status AS STATUS \n    COMMENT = 'Current status of the activity',\n  tasks.priority_level AS PRIORITY \n    COMMENT = 'Priority level of the activity',\n  tasks.activity_date AS ACTIVITY_DATE \n    COMMENT = 'Date when activity was performed',\n  tasks.call_type AS CALL_TYPE \n    COMMENT = 'Type of call (Inbound, Outbound, Internal)',\n  tasks.call_disposition AS CALL_DISPOSITION \n    WITH SYNONYMS ('call outcome', 'call result') \n    COMMENT = 'Outcome or disposition of the call'\n) \n\n-- Define metrics for analysis\nMETRICS (\n  -- Account metrics\n  accounts.total_accounts AS COUNT(DISTINCT accounts.ID) \n    COMMENT = 'Total number of accounts',\n  accounts.avg_annual_revenue AS AVG(accounts.company_revenue) \n    COMMENT = 'Average annual revenue of accounts',\n  accounts.total_annual_revenue AS SUM(accounts.company_revenue) \n    COMMENT = 'Total annual revenue across all accounts',\n    \n  -- Opportunity metrics\n  opportunities.total_opportunities AS COUNT(opportunities.ID) \n    COMMENT = 'Total number of opportunities',\n  opportunities.total_pipeline_value AS SUM(opportunities.deal_amount) \n    COMMENT = 'Total value of all opportunities in pipeline',\n  opportunities.avg_deal_size AS AVG(opportunities.deal_amount) \n    COMMENT = 'Average deal size across all opportunities',\n  opportunities.weighted_pipeline AS SUM(opportunities.deal_amount * opportunities.probability_percentage / 100) \n    COMMENT = 'Pipeline value weighted by probability',\n  opportunities.win_rate AS AVG(\n    CASE \n      WHEN opportunities.IS_WON = TRUE THEN 1 \n      WHEN opportunities.IS_CLOSED = TRUE THEN 0 \n      ELSE NULL \n    END\n  ) COMMENT = 'Win rate for closed opportunities',\n  opportunities.total_won_value AS SUM(\n    CASE \n      WHEN opportunities.IS_WON = TRUE THEN opportunities.deal_amount \n      ELSE 0 \n    END\n  ) COMMENT = 'Total value of won opportunities',\n  opportunities.avg_sales_cycle AS AVG(\n    CASE \n      WHEN opportunities.IS_CLOSED = TRUE \n      THEN DATEDIFF(day, opportunities.CREATED_DATE::DATE, opportunities.CLOSE_DATE::DATE)\n      ELSE NULL \n    END\n  ) COMMENT = 'Average sales cycle length in days for closed deals',\n  \n  -- Contact metrics\n  contacts.total_contacts AS COUNT(contacts.ID) \n    COMMENT = 'Total number of contacts',\n  contacts.contacts_per_account AS COUNT(contacts.ID) / COUNT(DISTINCT contacts.ACCOUNT_ID) \n    COMMENT = 'Average number of contacts per account',\n    \n  -- Activity metrics\n  tasks.total_activities AS COUNT(tasks.ID) \n    COMMENT = 'Total number of sales activities',\n  tasks.avg_call_duration AS AVG(tasks.call_duration_minutes) \n    COMMENT = 'Average call duration in minutes',\n  tasks.total_call_time AS SUM(tasks.call_duration_minutes) \n    COMMENT = 'Total call time in minutes',\n  tasks.activities_per_opportunity AS COUNT(tasks.ID) / COUNT(DISTINCT tasks.WHAT_ID) \n    COMMENT = 'Average number of activities per opportunity',\n  tasks.completion_rate AS AVG(\n    CASE \n      WHEN tasks.IS_CLOSED = TRUE THEN 1 \n      ELSE 0 \n    END\n  ) COMMENT = 'Task completion rate'\n) \n\nCOMMENT = 'Comprehensive semantic view for sales analytics and CRM performance tracking'; ",
   "execution_count": null
  },
  {
   "cell_type": "code",
   "id": "a931f37f-9833-4433-9e08-e887326df100",
   "metadata": {
    "language": "sql",
    "name": "sql_semantics"
   },
   "outputs": [],
   "source": "-- Semantic views can be used by AI features (Analyst & Intelligence)\n-- or BI tools via SELECT *.. for example\n-- this is how we'd return the opportunities by type and by how many activities have taken place\n\nSELECT * FROM SEMANTIC_VIEW(\n    sales_analytics  \n    DIMENSIONS opportunities.deal_name, opportunities.opportunity_type\n    METRICS tasks.total_activities\n  );",
   "execution_count": null
  },
  {
   "cell_type": "markdown",
   "id": "b0603908-417e-404c-b8bb-59b7fc08905a",
   "metadata": {
    "name": "next_stop_agents",
    "collapsed": false
   },
   "source": "# 🚀 Next Steps: From Demo to Production\n\nCongratulations! You've experienced the power of AI-driven sales intelligence with Snowball Analytics. Here's how to take this from demo to production:\n\n## 1. 🎯 **Deploy Conversational Assistant**\nIntegrate the search service and AI capabilities into your CRM or create a standalone Streamlit application for your sales team.\n\n## 2. 📊 **Expand Semantic Views**\nHead to **AI > Studio > Cortex Analyst** to create and update semantic views of your sales data, enabling natural language reporting and self-service analytics.\n\n## 3. 🤖 **Build Sales Agents**\nUse the search services and AI functions as tools for intelligent agents that can:\n- Automatically prepare meeting briefs\n- Monitor competitive threats\n- Score deal health in real-time\n- Generate personalized outreach at scale\n\n## 4. 🔄 **Integrate with Your CRM**\nConnect these AI capabilities directly to Salesforce, HubSpot, or your existing CRM through APIs for seamless workflow integration.\n\n## 5. 📈 **Scale Across Sales Organization**\nRoll out to your entire sales team with:\n- Territory-specific insights\n- Industry expertise augmentation  \n- Automated coaching recommendations\n- Real-time competitive intelligence\n\n---\n\n### 💡 **Key Takeaways**\n\n✅ **Conversational AI** transforms how sales reps interact with data\n\n✅ **Automated Intelligence** surfaces insights that would take hours to find manually\n\n✅ **Contextual Recommendations** help reps take the right action at the right time\n\n✅ **Competitive Awareness** keeps teams ahead of threats and opportunities\n\n✅ **MEDDIC Automation** ensures consistent sales methodology across all deals\n\n---\n\n*Ready to revolutionize your sales intelligence? Start with your own data and see the transformation firsthand.*\n"
  }
 ]
}