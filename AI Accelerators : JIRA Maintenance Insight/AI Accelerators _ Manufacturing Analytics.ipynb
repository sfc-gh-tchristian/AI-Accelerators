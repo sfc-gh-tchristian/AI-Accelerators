{
 "metadata": {
  "language_info": {
   "name": "python"
  },
  "lastEditStatus": {
   "notebookId": "jegtfx3b3w3yf3jqmvqx",
   "authorId": "320484852755",
   "authorName": "TOMGPT",
   "authorEmail": "tom.christian@snowflake.com",
   "sessionId": "eee5da0e-4e6b-4c9f-9a17-0c4f6cfc08f1",
   "lastEditTime": 1758546469048
  }
 },
 "nbformat_minor": 2,
 "nbformat": 4,
 "cells": [
  {
   "cell_type": "markdown",
   "metadata": {
    "name": "INTRO",
    "collapsed": false
   },
   "source": "# 🏭 AI-Powered Manufacturing Intelligence Demo w/ Snowflake Cortex\n\n## 🎯 Purpose\nThis notebook demonstrates how manufacturing teams leverage Snowflake's Cortex AI capabilities to transform traditional JIRA production data into actionable manufacturing intelligence. Experience conversational AI that answers complex operational questions, identifies critical failure patterns, and generates predictive maintenance insights.\n\n## 💡 Why do this?\n- 🔍 **Root Cause Analysis**: AI-driven pattern recognition to identify recurring problems and their sources\n- ⚡ **Downtime Prevention**: Predictive insights to prevent equipment failures before they occur\n- 🔧 **Maintenance Optimization**: Intelligent scheduling based on failure patterns and asset health\n- 📊 **Compliance Monitoring**: Automated tracking of safety and quality requirements\n- 🏆 **Process Excellence**: Identify best practices and replicate high-performing operations\n- 📈 **Operational Efficiency**: Real-time insights into production line performance and bottlenecks\n\n## 🛠️ Solution Components\nNote: This demo uses SQL & Python to showcase Snowflake Cortex capabilities for manufacturing intelligence\n\n1. 📊 **Manufacturing Operations Dashboard**\n   - Interactive dashboards showing equipment health and incident trends\n   - Dynamic filtering by production line, shift, and equipment type\n\n2. 🤖 **AI-Powered Manufacturing Analysis**\n   - Equipment summarization using `AI_AGG` across incident history\n   - Automated root cause detection with `AI_FILTER`\n   - Multi-dimensional failure analysis with `ENTITY_SENTIMENT`\n   - Maintenance effectiveness scoring and asset assessment\n\n3. ⚙️ **Automated Manufacturing Intelligence Pipeline**\n   - Real-time processing of new production incidents\n   - Automatic equipment health scoring updates\n   - Failure pattern tracking and predictive alerts\n\n4. 🎯 **Conversational Manufacturing Assistant**\n   - Natural language queries for maintenance planning\n   - Semantic search across incident history and equipment data\n   - Contextual recommendations and maintenance actions\n\n## 🌟 Common Scenarios\n*\"What's causing the most downtime on Production Line A this month?\"*\n\n*\"Which equipment showed repeated failures and what was the root cause?\"*\n\n*\"Show me all compliance incidents that took longer than 24 hours to resolve.\"*\n\n*\"Generate a maintenance plan for Equipment Unit 101 based on recent failure patterns.\"*\n",
   "id": "ce110000-1111-2222-3333-ffffff000000"
  },
  {
   "cell_type": "code",
   "execution_count": null,
   "metadata": {
    "name": "packages",
    "language": "python"
   },
   "outputs": [],
   "source": [
    "# Core packages for manufacturing analytics and visualization\n",
    "import streamlit as st\n",
    "import pandas as pd\n",
    "import altair as alt\n",
    "from datetime import datetime, timedelta\n",
    "import plotly.express as px\n",
    "import plotly.graph_objects as go\n",
    "\n",
    "# Snowflake session for AI-powered analytics\n",
    "from snowflake.snowpark.context import get_active_session\n",
    "session = get_active_session()\n"
   ],
   "id": "ce110000-1111-2222-3333-ffffff000001"
  },
  {
   "cell_type": "code",
   "execution_count": null,
   "metadata": {
    "name": "tables",
    "language": "python"
   },
   "outputs": [],
   "source": "# JIRA data configuration - update these if using your own production data or loaded your data somewhere else!\nissues_table = 'AI_SOL.JIRA.RAW_JIRA_ISSUES'\nprojects_table = 'AI_SOL.JIRA.RAW_JIRA_PROJECTS'\nusers_table = 'AI_SOL.JIRA.RAW_JIRA_USERS'\nworklogs_table = 'AI_SOL.JIRA.RAW_JIRA_WORKLOGS'\n\n\n# Display table locations for reference\nst.markdown(f\"\"\"\n**JIRA Data Sources:**\n- 🎫 JIRA Issues: `{issues_table}`\n- 🏭 Projects: `{projects_table}`  \n- 🔧 Users: `{users_table}`\n- ⏰ Worklogs: `{worklogs_table}`\n\"\"\")\n",
   "id": "ce110000-1111-2222-3333-ffffff000002"
  },
  {
   "cell_type": "markdown",
   "metadata": {
    "name": "EQUIP_INTEL"
   },
   "source": [
    "# 🔍 AI-Powered Equipment Intelligence\n",
    "\n",
    "Now let's dive into the real power of Cortex AI for manufacturing intelligence. We'll use `AI_AGG` to automatically summarize equipment performance and identify key insights from production incidents.\n",
    "\n",
    "This is where traditional JIRA reporting transforms into intelligent manufacturing assistance.\n"
   ],
   "id": "ce110000-1111-2222-3333-ffffff000004"
  },
  {
   "cell_type": "code",
   "execution_count": null,
   "metadata": {
    "vscode": {
     "languageId": "sql"
    },
    "name": "AI_AGG",
    "language": "sql"
   },
   "outputs": [],
   "source": "-- AI-powered JIRA issue analysis\n-- This demonstrates how we can instantly analyze JIRA issues\n-- by summarizing patterns and extracting key insights\n\nSELECT \n    i.PROJECT_NAME,\n    i.PROJECT_CODE,\n    i.ASSIGNEE,\n    COUNT(i.ID) as total_issues,\n    COUNT(CASE WHEN i.RESOLVED_TS IS NOT NULL THEN 1 END) as resolved_issues,\n    AI_AGG(\n        i.SUMMARY,\n        'Summarize the project issues and patterns. Highlight recurring problems, common themes, resolution patterns, and current status. Include any patterns related to assignees, priorities, or issue types.'\n    ) as project_analysis\nFROM AI_SOL.JIRA.RAW_JIRA_ISSUES i\nWHERE i.PROJECT_NAME = 'Manufacturing Operations' AND ASSIGNEE='James Müller'\nGROUP BY i.PROJECT_NAME, i.PROJECT_CODE, i.ASSIGNEE\nLIMIT 30;\n",
   "id": "ce110000-1111-2222-3333-ffffff000005"
  },
  {
   "cell_type": "code",
   "id": "a644b6df-108f-4302-a19d-527d5045c95d",
   "metadata": {
    "language": "python",
    "name": "st_write_results"
   },
   "outputs": [],
   "source": "# You can reference results from other cells - handy when you'd like to display the output :)\nst.write(AI_AGG.to_pandas()[\"PROJECT_ANALYSIS\"][0])",
   "execution_count": null
  },
  {
   "cell_type": "code",
   "execution_count": null,
   "metadata": {
    "name": "AGG_app",
    "language": "python",
    "codeCollapsed": false
   },
   "outputs": [],
   "source": "# JIRA Project Analysis Assistant\n# although we call it AISQL - you can call the same powerful functions with Python\n# let's wrap AI_AGG into an application that let's us monitor various projects and people\nfrom snowflake.snowpark.functions import col, count_distinct, max, ai_agg\n\nst.header(\"📊 JIRA Project Analysis Assistant\")\n\n# Create DataFrames from tables\nissues_df = session.table(issues_table)\nprojects_df = session.table(projects_table)\nusers_df = session.table(users_table)\n\n# Create interactive project analysis tool\nwith st.form(\"project_analysis\"):\n    st.markdown(\"### Generate project insights with AI analysis\")\n    \n    # Get list of projects for selection \n    project_list = (issues_df.select('PROJECT_NAME').distinct().sort('PROJECT_NAME').to_pandas()['PROJECT_NAME'].tolist())\n    \n    selected_project = st.selectbox(\n        \"Select Project for Analysis:\",\n        options=project_list,\n        index=0 if project_list else None,\n        key=\"project_select\"\n    )\n    \n    # Get assignees for selected project\n    if selected_project:\n        assignee_list = (issues_df\n            .filter(col('PROJECT_NAME') == selected_project)\n            .select('ASSIGNEE')\n            .distinct()\n            .sort('ASSIGNEE')\n            .to_pandas()['ASSIGNEE']\n            .tolist()\n        )\n        \n        selected_assignee = st.selectbox(\n            \"Select Assignee (Optional):\",\n            options=[\"All Assignees\"] + assignee_list,\n            key=\"assignee_select\"\n        )\n    \n    analysis_submitted = st.form_submit_button(\"Generate Project Analysis\")\n\nif analysis_submitted and selected_project:\n    # Build filter conditions\n    filter_conditions = [col('PROJECT_NAME') == selected_project]\n    if selected_assignee and selected_assignee != \"All Assignees\":\n        filter_conditions.append(col('ASSIGNEE') == selected_assignee)\n    \n    # Get comprehensive project intelligence\n    project_analysis = (issues_df\n        .filter(*filter_conditions)\n        .group_by(col('PROJECT_NAME'), col('PROJECT_CODE'))\n        .agg(\n            count_distinct('ID').alias('TOTAL_ISSUES'),\n            count_distinct(col('ASSIGNEE')).alias('UNIQUE_ASSIGNEES'),\n            max('CREATED').alias('LAST_ISSUE_DATE'),\n            ai_agg(\n                col('SUMMARY'),\n                'Create a comprehensive project analysis. Include: 1) Common issue themes and patterns 2) Project health assessment 3) Team workload analysis 4) Priority distribution 5) Recommendations for improvement 6) Key areas of focus. Format as project brief.'\n            ).alias('PROJECT_ANALYSIS')\n        )\n        .collect()\n    )\n    \n    if project_analysis:\n        analysis = project_analysis[0]\n        \n        st.success(f\"Project Analysis Generated for {selected_project}\" + \n                  (f\" - {selected_assignee}\" if selected_assignee != \"All Assignees\" else \"\"))\n        \n        # Display key metrics\n        col1, col2, col3, col4 = st.columns(4)\n        with col1:\n            st.metric(\"Project Code\", analysis['PROJECT_CODE'])\n        with col2:\n            st.metric(\"Total Issues\", analysis['TOTAL_ISSUES'])\n        with col3:\n            st.metric(\"Team Members\", analysis['UNIQUE_ASSIGNEES'])\n        with col4:\n            last_issue = analysis['LAST_ISSUE_DATE']\n            if last_issue:\n                st.metric(\"Last Issue\", last_issue.strftime('%Y-%m-%d'))\n            else:\n                st.metric(\"Last Issue\", \"N/A\")\n        \n        # Display AI-generated analysis\n        st.markdown(\"### 📋 AI-Generated Project Analysis\")\n        st.markdown(analysis['PROJECT_ANALYSIS'])\n        \n        # Get recent issues for this project\n        recent_issues = (issues_df\n            .filter(*filter_conditions)\n            .select(\n                col('KEY'),\n                col('SUMMARY'),\n                col('PRIORITY'),\n                col('STATUS'),\n                col('ASSIGNEE'),\n                col('CREATED')\n            )\n            .order_by(col('CREATED').desc())\n            .limit(10)\n            .to_pandas()\n        )\n        \n        if not recent_issues.empty:\n            st.markdown(\"### 🎫 Recent Issues\")\n            st.dataframe(recent_issues, use_container_width=True)\n",
   "id": "ce110000-1111-2222-3333-ffffff000006"
  },
  {
   "cell_type": "markdown",
   "metadata": {
    "name": "RCA_ANALYSIS",
    "collapsed": false
   },
   "source": "# 🔍 Root Cause Analysis with AI_CLASSIFY\n\nOne of the key challenges in manufacturing is identifying root causes scattered across incident reports. `AI_CLASSIFY` allows us to intelligently identify recurring problems and their sources, even when root causes aren't explicitly documented.\n\nThis goes beyond simple keyword matching - it understands context and patterns in failure descriptions.\n",
   "id": "ce110000-1111-2222-3333-ffffff000007"
  },
  {
   "cell_type": "code",
   "execution_count": null,
   "metadata": {
    "vscode": {
     "languageId": "sql"
    },
    "name": "AI_CLASSIFY",
    "language": "sql",
    "codeCollapsed": false
   },
   "outputs": [],
   "source": "-- Intelligent issue classification across all JIRA issues\n-- This finds patterns and classifies issues by type and urgency\n\nSELECT \n    i.KEY,\n    i.SUMMARY,\n    AI_CLASSIFY(\n        i.SUMMARY,\n        [\n            {'label': 'Bearing System Failure', 'description': 'bearing overheating, defective bearings, or bearing-induced alignment drift'},\n            {'label': 'Electrical Component Failure', 'description': 'sensor failures, electrical faults in valves or sensors, or electrical system malfunctions'},\n            {'label': 'Hydraulic System Leak', 'description': 'leaks in valves, nozzles, seals, or other hydraulic components'},\n            {'label': 'Sensor Calibration Issue', 'description': 'sensor misread failures, accuracy problems, or calibration drift'},\n            {'label': 'Mechanical Alignment Problem', 'description': 'alignment drift in nozzles, bearings, sensors, or other mechanical components'},\n            {'label': 'Thermal Management Failure', 'description': 'overheating of bearings, valves, or other components due to thermal issues'},\n            {'label': 'Regulatory Compliance Violation', 'description': 'compliance deviations, regulatory reporting issues, or procedural violations'},\n            {'label': 'Recurring Incident Escalation', 'description': 'repeated failures, unresolved root causes, or escalated production disruptions'}\n        ],\n        {\n            'task_description': 'Classify manufacturing issues by detailed category for operational analysis',\n            'output_mode': 'single' -- this can be 'multi' if appropriate!\n        }\n    ) as issue_category,\n    i.STATUS\nFROM AI_SOL.JIRA.RAW_JIRA_ISSUES i\nORDER BY i.CREATED DESC;",
   "id": "ce110000-1111-2222-3333-ffffff000008"
  },
  {
   "cell_type": "code",
   "id": "9d861c4f-4024-4181-9a28-87968a752eb9",
   "metadata": {
    "language": "python",
    "name": "cat_classify"
   },
   "outputs": [],
   "source": "# Get data from cell9 and process for visualization\ndf = AI_CLASSIFY.to_pandas()\n\n# Extract labels from JSON strings for both columns\ndf['issue_category'] = df['ISSUE_CATEGORY'].str.extract(r'\"labels\":\\s*\\[\\s*\"([^\"]+)\"\\s*\\]')\n\n# Display summary metrics\nst.markdown(\"### Summary Statistics\")\n\nmost_common_category = df['issue_category'].mode()[0]\ncategory_count = df['issue_category'].value_counts().iloc[0]\nst.metric(\"Most Common Issue Category\", \n          most_common_category,\n          f\"{category_count} occurrences\")\n\n    \n# Create category chart\ncategory_chart = alt.Chart(df).mark_bar().encode(\n    x=alt.X('count():Q', title='Count'),\n    y=alt.Y('issue_category:N', title='Issue Category', sort='-x'),\n    color=alt.Color('issue_category:N', legend=None, scale=alt.Scale(scheme='blues')),\n    tooltip=['issue_category', 'count()']\n).properties(height=300)\n\nst.altair_chart(category_chart, use_container_width=True)",
   "execution_count": null
  },
  {
   "cell_type": "markdown",
   "metadata": {
    "name": "ME_ANALYSIS",
    "collapsed": false
   },
   "source": "# ⚡ Maintenance Effectiveness Analysis with AI Intelligence\n\nMaintenance effectiveness is critical for manufacturing operations. Here we use AI to automatically analyze maintenance patterns, resolution times, and repeat failures to assess the health of our maintenance processes.\n\nThis transforms subjective maintenance assessment into data-driven insights for continuous improvement.\n\nIn this case using `AI_COMPLETE`, which allows us to run a custom prompt with our model of choice, we can define a strict schema for the LLM to follow. This is perfect for engineering tasks, where structure ensures consistency and pipeline reliability. [See more](https://docs.snowflake.com/en/user-guide/snowflake-cortex/complete-structured-outputs)\n",
   "id": "ce110000-1111-2222-3333-ffffff000009"
  },
  {
   "cell_type": "code",
   "execution_count": null,
   "metadata": {
    "vscode": {
     "languageId": "sql"
    },
    "name": "Structured_outputs",
    "language": "sql"
   },
   "outputs": [],
   "source": "-- With structured outputs, we can extract multiple entities in one request.\n-- This reduces multiple round hops to the same model for information.\n-- For accuracy, make the requests related by topic where possible\n\n-- Looking to run this on change data periodically? \n-- Using a dynamic table means we can define the structure\n-- and Snowflake will manage the pipeline!\n\n-- CREATE DYNAMIC TABLE LLM_INSIGHTS\n--  TARGET_LAG = '60 minute'\n--  WAREHOUSE = tc_wh --change to your own\n--  AS\n\nSELECT\n  i.PROJECT_NAME,\n  i.ASSIGNEE,\n  i.CREATOR,\n  AI_COMPLETE(\n    model => 'claude-4-sonnet',\n    prompt => 'You are an expert in project management and issue analysis. Given the following JIRA issue data, analyze the project patterns and provide structured insights. Only extract information found in the issue summaries. Be precise and factual in your analysis.' || \n              '\\n\\nJIRA ISSUE DATA:\\n' || \n              SUMMARY || \n              '\\nEND OF ISSUE DATA\\n\\n',\n    response_format => {\n      'type': 'json',\n      'schema': {\n        'type': 'object',\n        'properties': {\n          'PROJECT_ANALYSIS': {\n            'type': 'object',\n            'properties': {\n              'part_component': {\n                'type': 'string',\n                'description': 'The name of the part that failed'\n              },\n              'shows_good_progress': {\n                'type': 'boolean', \n                'description': 'TRUE if issues are being resolved in reasonable time with good outcomes'\n              },\n              'resolved': {\n                'type': 'boolean',\n                'description': 'TRUE if the issue appears to be resolved based on the comments'\n              },\n              'high_priority': {\n                'type': 'boolean',\n                'description': 'TRUE if issues indicate a high degree of critical importance'\n              },\n              'has_good_documentation': {\n                'type': 'boolean',\n                'description': 'TRUE if issue summaries are detailed and well-documented'\n              },\n              'project_summary': {\n                'type': 'string',\n                'description': 'Brief summary of overall project health and key patterns observed'\n              }\n            },\n            'required': ['part_component', 'shows_good_progress', 'resolved', 'high_priority', 'has_good_documentation', 'project_summary'],\n            'additionalProperties': false\n          }\n        },\n        'required': ['PROJECT_ANALYSIS'],\n        'additionalProperties': false\n      }\n    }\n  ) AS project_analysis_json\nFROM\n  AI_SOL.JIRA.RAW_JIRA_ISSUES AS i\nWHERE\n  i.CREATED >= DATEADD(month, -6, CURRENT_DATE())\nLIMIT 10;\n",
   "id": "ce110000-1111-2222-3333-ffffff000010"
  },
  {
   "cell_type": "code",
   "execution_count": null,
   "metadata": {
    "vscode": {
     "languageId": "sql"
    },
    "name": "JSON_extract",
    "language": "sql"
   },
   "outputs": [],
   "source": "-- By expanding on these results, we're turning unstructured data into structured data! \n-- This could be particularly useful for quantafiable analysis for Cortex Agents / Snowflake Intelligence\n-- Now you're able to build a reliable pipeline that goes:\n-- raw data > AI transform > JSON extract\n\nSELECT \n  PROJECT_NAME,\n  ASSIGNEE,\n  project_analysis_json:PROJECT_ANALYSIS.part_component::string as part_component,\n  project_analysis_json:PROJECT_ANALYSIS.has_good_documentation::boolean as has_good_documentation,\n  project_analysis_json:PROJECT_ANALYSIS.resolved::boolean as resolved,\n  project_analysis_json:PROJECT_ANALYSIS.high_priority::boolean as high_priority,\n  project_analysis_json:PROJECT_ANALYSIS.shows_good_progress::boolean as shows_good_progress,\n  project_analysis_json:PROJECT_ANALYSIS.project_summary::string as project_summary\nFROM {{Structured_outputs}};",
   "id": "ce110000-1111-2222-3333-ffffff000011"
  },
  {
   "cell_type": "markdown",
   "metadata": {
    "name": "Generate_Recommendations"
   },
   "source": [
    "# 📋 AI-Generated Maintenance Recommendations\n",
    "\n",
    "One of the most valuable applications is generating actionable maintenance recommendations based on incident patterns and equipment history. Using the failure analysis and maintenance data, we can generate specific, contextual recommendations for maintenance teams.\n",
    "\n",
    "This demonstrates how AI can augment human expertise while providing consistent, data-driven guidance.\n"
   ],
   "id": "ce110000-1111-2222-3333-ffffff000012"
  },
  {
   "cell_type": "code",
   "execution_count": null,
   "metadata": {
    "name": "issue_management_app",
    "language": "python"
   },
   "outputs": [],
   "source": "# JIRA Issue Recommendations Generator\nst.header(\"📋 AI-Powered Issue Management Recommendations\")\n\nwith st.form(\"recommendations_form\"):\n    st.markdown(\"### Generate project recommendations based on issue patterns\")\n    \n    # Get projects with recent issues\n    recent_projects = session.sql(f\"\"\"\n        SELECT DISTINCT \n            i.PROJECT_NAME,\n            COUNT(i.ID) as issue_count,\n            MAX(i.CREATED) as last_issue\n        FROM {issues_table} i\n        WHERE i.CREATED >= DATEADD(month, -3, CURRENT_DATE())\n        GROUP BY i.PROJECT_NAME\n        ORDER BY issue_count DESC, last_issue DESC\n        LIMIT 20\n    \"\"\").to_pandas()\n\n    col1, col2, col3 = st.columns(3)    \n    \n    selected_project_rec = col1.selectbox(\n        \"Select Project for Recommendations:\",\n        options=recent_projects['PROJECT_NAME'].tolist() if not recent_projects.empty else []\n    )\n    \n    recommendation_type = col2.selectbox(\n        \"Recommendation Focus:\",\n        [\"Process Improvement\", \"Team Efficiency\", \"Issue Prevention\", \"Quality Enhancement\", \"Workflow Optimization\"]\n    )\n    \n    urgency = col3.selectbox(\n        \"Priority Level:\",\n        [\"High Priority\", \"Medium Priority\", \"Low Priority\", \"Routine\"]\n    )\n    \n    generate_recommendations = st.form_submit_button(\"Generate Recommendations\")\n\nif generate_recommendations and selected_project_rec:\n    # Get issue patterns and context for the selected project\n    recommendations_context = session.sql(f\"\"\"\n        WITH recent_issues AS (\n            SELECT \n                i.SUMMARY,\n                i.CREATED,\n                i.PRIORITY,\n                i.STATUS,\n                i.ASSIGNEE\n            FROM {issues_table} i\n            WHERE i.PROJECT_NAME = '{selected_project_rec}'\n            ORDER BY i.CREATED DESC\n            LIMIT 10\n        ),\n        project_context AS (\n            SELECT \n                i.PROJECT_NAME,\n                i.PROJECT_CODE,\n                COUNT(i.ID) as total_issues,\n                COUNT(CASE WHEN i.STATUS IN ('Open', 'In Progress', 'To Do') THEN 1 END) as open_issues\n            FROM {issues_table} i\n            WHERE i.PROJECT_NAME = '{selected_project_rec}'\n            GROUP BY i.PROJECT_NAME, i.PROJECT_CODE\n            LIMIT 1\n        )\n        SELECT \n            pc.PROJECT_NAME,\n            pc.PROJECT_CODE,\n            pc.total_issues,\n            pc.open_issues,\n            AI_COMPLETE(\n                'claude-4-sonnet',\n                CONCAT(\n                    'Generate {recommendation_type} recommendations for project ', pc.PROJECT_NAME, ' (', pc.PROJECT_CODE, '). ',\n                    'Priority level: {urgency}. Project has ', pc.total_issues, ' total issues with ', pc.open_issues, ' currently open. ',\n                    'Based on these recent issues: ',\n                    (SELECT LISTAGG(CONCAT(PRIORITY, ' - ', SUMMARY, ' (Assignee: ', ASSIGNEE, ', Status: ', STATUS, ')'), '; ') FROM recent_issues),\n                    '. Provide specific, actionable recommendations including: 1) Process improvements 2) Team efficiency measures 3) Issue prevention strategies 4) Quality enhancements 5) Timeline and implementation steps. ',\n                    'Format as a brief structured project improvement plan with clear priorities and actions. Return in markdown format. /n PROJECT PLAN:'\n                )\n            ) as project_recommendations\n        FROM project_context pc\n    \"\"\").collect()\n    \n    if recommendations_context:\n        context = recommendations_context[0]\n        \n        st.success(f\"Project Recommendations Generated for {context['PROJECT_NAME']}\")\n        \n        # Display project info\n        col1, col2, col3 = st.columns(3)\n        with col1:\n            st.markdown(f\"**Project:** {context['PROJECT_NAME']}\")\n            st.markdown(f\"**Code:** {context['PROJECT_CODE']}\")\n        with col2:\n            st.markdown(f\"**Total Issues:** {context['TOTAL_ISSUES']}\")\n            st.markdown(f\"**Open Issues:** {context['OPEN_ISSUES']}\")\n        with col3:\n            st.markdown(f\"**Focus:** {recommendation_type}\")\n            st.markdown(f\"**Priority:** {urgency}\")\n        \n        # Display generated recommendations\n        st.markdown(\"### 🔧 Generated Project Recommendations\")\n        \n        recommendations_content = context['PROJECT_RECOMMENDATIONS']\n\n        st.write(recommendations_content.strip('\"').encode().decode('unicode_escape'))\n        \n        # Make recommendations editable\n        #edited_recommendations = st.text_area(\n        #    \"Review and edit recommendations:\",\n        #    value=recommendations_content,\n        #    height=400\n        #)\n        ",
   "id": "ce110000-1111-2222-3333-ffffff000013"
  },
  {
   "cell_type": "markdown",
   "metadata": {
    "name": "CONVERSATIONAL_ASSIST"
   },
   "source": [
    "# 🤖 Conversational Manufacturing Assistant\n",
    "\n",
    "The ultimate goal is natural language interaction with our manufacturing data. Using Cortex Search, we can create a conversational assistant that answers complex operational questions, just like asking a senior manufacturing engineer.\n",
    "\n",
    "This represents the future of manufacturing intelligence - instant, contextual, and conversational.\n"
   ],
   "id": "ce110000-1111-2222-3333-ffffff000014"
  },
  {
   "cell_type": "code",
   "execution_count": null,
   "metadata": {
    "vscode": {
     "languageId": "sql"
    },
    "name": "cortex_search",
    "language": "sql"
   },
   "outputs": [],
   "source": [
    "-- Create Cortex Search service for JIRA data\n",
    "-- This enables semantic search across all JIRA issues and project data\n",
    "\n",
    "CREATE OR REPLACE CORTEX SEARCH SERVICE JIRA_SEARCH\n",
    "  ON SUMMARY\n",
    "  ATTRIBUTES CREATED, PROJECT_CODE, PRIORITY, STATUS\n",
    "  WAREHOUSE = tc_wh\n",
    "  TARGET_LAG = '1 day'\n",
    "  EMBEDDING_MODEL = 'snowflake-arctic-embed-l-v2.0'\n",
    "  AS (\n",
    "    SELECT\n",
    "        i.KEY,\n",
    "        i.ID,\n",
    "        i.CREATED,\n",
    "        i.PROJECT_CODE,\n",
    "        i.PROJECT_NAME,\n",
    "        i.SUMMARY,\n",
    "        i.PRIORITY,\n",
    "        i.STATUS,\n",
    "        i.ASSIGNEE,\n",
    "        i.CREATOR,\n",
    "        i.REPORTER\n",
    "    FROM AI_SOL.JIRA.RAW_JIRA_ISSUES i\n",
    ");\n"
   ],
   "id": "ce110000-1111-2222-3333-ffffff000015"
  },
  {
   "cell_type": "code",
   "execution_count": null,
   "metadata": {
    "name": "RAG_App",
    "language": "python"
   },
   "outputs": [],
   "source": "# Conversational JIRA Assistant\nfrom snowflake.core import Root\nfrom snowflake.cortex import complete\nimport json\n\nst.header(\"🤖 Conversational JIRA Assistant\")\nst.markdown(\"Ask natural language questions about projects, issues, and team performance.\")\n\n# Sample questions to inspire users\nst.markdown(\"\"\"\n**Try asking questions like:**\n- \"What are the most common issues in the Manufacturing Operations project?\"\n- \"What are the common themes where an electrical fault happened?\"\n- \"Which products repeatedly leak?\n\"\"\")\n\nroot = Root(session)\n\n# Conversational interface\nwith st.form(\"jira_query\"):\n    user_question = st.text_input(\n        \"Ask your JIRA question:\",\n        placeholder=\"What are the most common issues in the Manufacturing Operations project?\"\n    )\n    \n    search_submitted = st.form_submit_button(\"Search\")\n\nif search_submitted and user_question:\n    try:\n        # Search JIRA data\n        search_service = (root\n            .databases[\"ai_sol\"]\n            .schemas[\"jira\"]\n            .cortex_search_services[\"jira_search\"]\n        )\n        \n        search_results = search_service.search(\n            query=user_question,\n            columns=[\"KEY\", \"SUMMARY\", \"PROJECT_NAME\", \n                    \"PRIORITY\", \"CREATED\", \"ASSIGNEE\", \"STATUS\"],\n            limit=5\n        )\n        \n        # Generate AI response based on search results\n        model = 'claude-4-sonnet'\n        \n        context_prompt = f\"\"\"\n        Based on the following JIRA issue data, answer this question: \"{user_question}\"\n        \n        JIRA Data:\n        {search_results.to_str()}\n        \n        Provide a helpful, contextual answer that summarizes the relevant information and suggests project management actions if appropriate. \n        Be specific about issues, dates, and assignees mentioned. Focus on project insights and actionable recommendations.\n        \"\"\"\n        \n        ai_response = complete(model, context_prompt)\n        \n        st.markdown(\"### 🎯 AI Response\")\n        st.markdown(ai_response)\n        \n        st.markdown(\"### 📋 Relevant JIRA Issues\")\n        \n        # Display search results in a more readable format\n        results_json_string = search_results.to_json()  \n        results_data = json.loads(results_json_string)  \n        \n        if results_data and 'results' in results_data:\n            for i, result in enumerate(results_data['results'][:3]):  # Show top 3\n                with st.expander(f\"🎫 {result.get('KEY', 'Unknown Issue')} - {result.get('PRIORITY', 'Normal')} Priority\"):\n                    st.markdown(f\"**Project:** {result.get('PROJECT_NAME', 'N/A')}\")\n                    st.markdown(f\"**Created:** {result.get('CREATED', 'N/A')}\")\n                    st.markdown(f\"**Assignee:** {result.get('ASSIGNEE', 'N/A')}\")\n                    st.markdown(f\"**Status:** {result.get('STATUS', 'N/A')}\")\n                    st.markdown(f\"**Summary:** {result.get('SUMMARY', 'No summary available')}\")\n        \n    except Exception as e:\n        st.error(f\"Error: {str(e)}\")\n        st.info(\"Note: Make sure the JIRA_SEARCH service has been created and is available.\")\n",
   "id": "ce110000-1111-2222-3333-ffffff000016"
  },
  {
   "cell_type": "markdown",
   "metadata": {
    "name": "AI_for_BI"
   },
   "source": [
    "# 📊 AI for Manufacturing Business Intelligence\n",
    "\n",
    "## 🎯 Purpose\n",
    "Learn how to leverage Snowflake's AI capabilities for advanced manufacturing intelligence through semantic analysis.\n",
    "\n",
    "## 🔑 Key Components\n",
    "\n",
    "- **Analyst Tool**: Enables quantitative analysis through natural language queries\n",
    "- **Data Semantics**: Ensures accuracy and consistency in analysis through defined relationships and metrics\n",
    "- **Semantic Views**: Can be created through:\n",
    "  - UI-based configuration in Snowflake interface\n",
    "  - SQL-based definition (demonstrated in next cell)\n",
    "\n",
    "## 💡 Benefits\n",
    "- Natural language querying of your manufacturing data\n",
    "- Consistent metric definitions across your organization\n",
    "- Enhanced data discoverability and understanding\n",
    "- Improved data governance through semantic layer\n",
    "- Real-time operational insights and predictive analytics\n"
   ],
   "id": "ce110000-1111-2222-3333-ffffff000017"
  },
  {
   "cell_type": "code",
   "execution_count": null,
   "metadata": {
    "vscode": {
     "languageId": "sql"
    },
    "name": "semantic_views",
    "language": "sql",
    "codeCollapsed": false
   },
   "outputs": [],
   "source": "CREATE OR REPLACE SEMANTIC VIEW jira_analytics \nTABLES (\n  issues AS AI_SOL.JIRA.RAW_JIRA_ISSUES \n  PRIMARY KEY (KEY)\n  WITH SYNONYMS ('tickets', 'problems', 'tasks', 'bugs') \n  COMMENT = 'JIRA issues and tickets information',\n  \n  projects AS AI_SOL.JIRA.RAW_JIRA_PROJECTS \n  PRIMARY KEY (PROJECT_CODE) \n  WITH SYNONYMS ('project', 'initiatives') \n  COMMENT = 'JIRA project configurations and details',\n  \n  users AS AI_SOL.JIRA.RAW_JIRA_USERS \n  PRIMARY KEY (DISPLAY_NAME) \n  WITH SYNONYMS ('people', 'team members', 'assignees') \n  COMMENT = 'JIRA users and team member information',\n  \n  worklogs AS AI_SOL.JIRA.RAW_JIRA_WORKLOGS \n  PRIMARY KEY (ISSUE_KEY, USER, WORK_START_TS) \n  WITH SYNONYMS ('time tracking', 'work entries', 'time logs') \n  COMMENT = 'Work log entries and time tracking data'\n) \n\nRELATIONSHIPS (\n  issues_to_projects AS issues (PROJECT_CODE) REFERENCES projects (PROJECT_CODE),\n  worklogs_to_issues AS worklogs (ISSUE_KEY) REFERENCES issues (KEY),\n  issues_to_assignee AS issues (ASSIGNEE) REFERENCES users (DISPLAY_NAME),\n  issues_to_creator AS issues (CREATOR) REFERENCES users (DISPLAY_NAME),\n  issues_to_reporter AS issues (REPORTER) REFERENCES users (DISPLAY_NAME)\n) \n\nFACTS (\n  issues.resolution_hours AS DATEDIFF(hour, issues.CREATED, issues.RESOLVED_TS),\n  issues.issue_count AS 1 COMMENT = 'Count of individual issues',\n  worklogs.time_spent_minutes AS TIME_SPENT_MINUTES,\n  worklogs.work_duration AS DATEDIFF(minute, worklogs.WORK_START_TS, worklogs.WORK_END_TS)\n) \n\nDIMENSIONS (\n  issues.key AS KEY \n    WITH SYNONYMS ('ticket key', 'issue number') \n    COMMENT = 'Unique JIRA issue key',\n  issues.summary AS SUMMARY \n    WITH SYNONYMS ('title', 'description', 'issue summary') \n    COMMENT = 'Brief description of the issue',\n  issues.priority AS PRIORITY \n    WITH SYNONYMS ('urgency', 'severity', 'importance') \n    COMMENT = 'Priority level of the issue',\n  issues.status AS STATUS \n    WITH SYNONYMS ('state', 'condition', 'stage') \n    COMMENT = 'Current status of the issue',\n  issues.status_category AS STATUS_CATEGORY \n    WITH SYNONYMS ('status group', 'category') \n    COMMENT = 'Category grouping of status',\n  issues.created AS CREATED \n    COMMENT = 'Date when issue was created',\n  issues.resolved_ts AS RESOLVED_TS \n    COMMENT = 'Date when issue was resolved',\n  issues.assignee AS ASSIGNEE \n    WITH SYNONYMS ('assigned to', 'owner') \n    COMMENT = 'Person assigned to the issue',\n  issues.creator AS CREATOR \n    WITH SYNONYMS ('created by', 'author') \n    COMMENT = 'Person who created the issue',\n  issues.reporter AS REPORTER \n    WITH SYNONYMS ('reported by') \n    COMMENT = 'Person who reported the issue',\n  issues.channel AS CHANNEL \n    WITH SYNONYMS ('source', 'origin') \n    COMMENT = 'Channel through which issue was reported',\n  issues.labels AS LABELS \n    WITH SYNONYMS ('tags', 'categories') \n    COMMENT = 'Labels or tags associated with the issue',\n  projects.project_code AS PROJECT_CODE \n    WITH SYNONYMS ('project key', 'code') \n    COMMENT = 'Unique project identifier',\n  projects.project_name AS PROJECT_NAME \n    WITH SYNONYMS ('project title', 'name') \n    COMMENT = 'Name of the project',\n  users.display_name AS DISPLAY_NAME \n    WITH SYNONYMS ('name', 'person') \n    COMMENT = 'Display name of the user',\n  users.role AS ROLE \n    WITH SYNONYMS ('position', 'job title') \n    COMMENT = 'Role or position of the user',\n  users.team AS TEAM \n    WITH SYNONYMS ('department', 'group') \n    COMMENT = 'Team or department of the user',\n  users.location AS LOCATION \n    WITH SYNONYMS ('office', 'site') \n    COMMENT = 'Location of the user',\n  worklogs.user AS USER \n    WITH SYNONYMS ('worker', 'contributor') \n    COMMENT = 'User who logged the work',\n  worklogs.work_start_ts AS WORK_START_TS \n    COMMENT = 'Start time of work session',\n  worklogs.work_end_ts AS WORK_END_TS \n    COMMENT = 'End time of work session'\n) \n\nMETRICS (\n  issues.total_issues AS COUNT(issues.KEY) \n    COMMENT = 'Total number of issues',\n  issues.resolved_issues AS COUNT(\n    CASE\n      WHEN issues.RESOLVED_TS IS NOT NULL THEN issues.KEY\n      ELSE NULL\n    END\n  ) COMMENT = 'Number of resolved issues',\n  issues.open_issues AS COUNT(\n    CASE\n      WHEN issues.STATUS IN ('Open', 'In Progress', 'To Do') THEN issues.KEY\n      ELSE NULL\n    END\n  ) COMMENT = 'Number of open issues',\n  issues.avg_resolution_time AS AVG(issues.resolution_hours) \n    COMMENT = 'Average time to resolve issues in hours',\n  issues.critical_issues AS COUNT(\n    CASE\n      WHEN issues.PRIORITY = 'Critical' THEN issues.KEY\n      ELSE NULL\n    END\n  ) COMMENT = 'Number of critical priority issues',\n  issues.high_priority_issues AS COUNT(\n    CASE\n      WHEN issues.PRIORITY IN ('Critical', 'High') THEN issues.KEY\n      ELSE NULL\n    END\n  ) COMMENT = 'Number of high priority issues',\n  projects.total_projects AS COUNT(DISTINCT projects.PROJECT_CODE) \n    COMMENT = 'Total number of projects',\n  issues.issues_per_project AS COUNT(issues.KEY) / COUNT(DISTINCT issues.PROJECT_CODE) \n    COMMENT = 'Average issues per project',\n  users.total_users AS COUNT(DISTINCT users.DISPLAY_NAME) \n    COMMENT = 'Total number of users',\n  issues.issues_per_assignee AS COUNT(issues.KEY) / COUNT(DISTINCT issues.ASSIGNEE) \n    COMMENT = 'Average issues per assignee',\n  worklogs.total_time_spent AS SUM(worklogs.TIME_SPENT_MINUTES) \n    COMMENT = 'Total time spent in minutes',\n  worklogs.avg_time_per_issue AS AVG(worklogs.TIME_SPENT_MINUTES) \n    COMMENT = 'Average time spent per issue in minutes',\n  issues.resolution_rate AS (\n    COUNT(\n      CASE\n        WHEN issues.RESOLVED_TS IS NOT NULL THEN issues.KEY\n      END\n    ) * 100.0 / COUNT(issues.KEY)\n  ) COMMENT = 'Percentage of issues that have been resolved',\n  issues.sla_compliance AS (\n    COUNT(\n      CASE\n        WHEN issues.RESOLVED_TS IS NOT NULL\n        AND DATEDIFF(hour, issues.CREATED, issues.RESOLVED_TS) <= 24 THEN issues.KEY\n      END\n    ) * 100.0 / COUNT(\n      CASE\n        WHEN issues.RESOLVED_TS IS NOT NULL THEN issues.KEY\n      END\n    )\n  ) COMMENT = 'Percentage of issues resolved within 24 hours'\n) \n\nCOMMENT = 'Comprehensive semantic view for JIRA analytics and project performance tracking';",
   "id": "ce110000-1111-2222-3333-ffffff000018"
  },
  {
   "cell_type": "code",
   "execution_count": null,
   "metadata": {
    "vscode": {
     "languageId": "sql"
    },
    "name": "cell20",
    "language": "sql"
   },
   "outputs": [],
   "source": [
    "-- Semantic views can be used by AI features (Analyst & Intelligence)\n",
    "-- or BI tools via SELECT *.. for example\n",
    "-- this is how we'd return the project performance by project and priority\n",
    "\n",
    "SELECT * FROM SEMANTIC_VIEW(\n",
    "    jira_analytics  \n",
    "    DIMENSIONS projects.project_name, issues.priority\n",
    "    METRICS issues.total_issues, issues.resolved_issues, issues.avg_resolution_time\n",
    "  );\n"
   ],
   "id": "ce110000-1111-2222-3333-ffffff000019"
  },
  {
   "cell_type": "markdown",
   "metadata": {
    "name": "time_to_create_agents"
   },
   "source": [
    "# 🚀 Next Steps: From Demo to Production\n",
    "\n",
    "Congratulations! You've experienced the power of AI-driven manufacturing intelligence. Here's how to take this from demo to production:\n",
    "\n",
    "## 1. 🎯 **Deploy Manufacturing Assistant**\n",
    "Integrate the search service and AI capabilities into your CMMS or create a standalone Streamlit application for your maintenance teams.\n",
    "\n",
    "## 2. 📊 **Expand Semantic Views**\n",
    "Head to **AI > Studio > Cortex Analyst** to create and update semantic views of your manufacturing data, enabling natural language reporting and self-service analytics.\n",
    "\n",
    "## 3. 🤖 **Build Manufacturing Agents**\n",
    "Use the search services and AI functions as tools for intelligent agents that can:\n",
    "- Automatically generate maintenance plans\n",
    "- Monitor equipment health in real-time\n",
    "- Predict failures before they occur\n",
    "- Optimize maintenance schedules\n",
    "\n",
    "## 4. 🔄 **Integrate with Your Systems**\n",
    "Connect these AI capabilities directly to your CMMS, ERP, or existing manufacturing systems through APIs for seamless workflow integration.\n",
    "\n",
    "## 5. 📈 **Scale Across Manufacturing Operations**\n",
    "Roll out to your entire manufacturing organization with:\n",
    "- Plant-specific insights\n",
    "- Equipment expertise augmentation  \n",
    "- Automated maintenance recommendations\n",
    "- Real-time operational intelligence\n",
    "\n",
    "---\n",
    "\n",
    "### 💡 **Key Takeaways**\n",
    "\n",
    "✅ **Conversational AI** transforms how maintenance teams interact with operational data\n",
    "\n",
    "✅ **Automated Intelligence** surfaces insights that would take hours to find manually\n",
    "\n",
    "✅ **Predictive Recommendations** help teams take proactive action before failures occur\n",
    "\n",
    "✅ **Root Cause Awareness** keeps teams ahead of recurring problems\n",
    "\n",
    "✅ **Maintenance Automation** ensures consistent processes across all equipment\n",
    "\n",
    "---\n",
    "\n",
    "*Ready to revolutionize your manufacturing intelligence? Start with your own JIRA data and see the transformation firsthand.*\n"
   ],
   "id": "ce110000-1111-2222-3333-ffffff000020"
  }
 ]
}